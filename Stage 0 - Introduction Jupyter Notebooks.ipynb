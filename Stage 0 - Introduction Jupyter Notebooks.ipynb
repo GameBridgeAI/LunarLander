{
 "cells": [
  {
   "cell_type": "markdown",
   "metadata": {},
   "source": [
    "# What is this Jupyter thing?\n",
    "\n",
    "Jupyter Notebooks are a common tool used by scientists and engineers to analyse data and run experiements. Jupyter Notebooks can do amazing things and we are going to use it to build our AI.  \n",
    "\n",
    "\n",
    "![JupyterNotebooks](images/JupyterNotebooks.png)\n",
    "\n",
    "\n"
   ]
  },
  {
   "cell_type": "markdown",
   "metadata": {},
   "source": [
    "# Python\n",
    "\n",
    "**Python** is a programming language commonly used to build Ariticial Intelligence (AI) and this is the language we will use in our Jupyter Notebooks. Some of you might have noticed the PY in JuPYter this comes from Python. \n",
    "\n",
    "## Lets write some code. \n",
    "\n",
    "In the grey box below, these grey boxes are called cells, write the code:\n",
    "\n",
    "```python\n",
    "2+3\n",
    "```\n",
    "\n",
    "After typing the sum in the box below click the **Run** button above. (Note hitting keys SHIFT+ENTER also runs the code)"
   ]
  },
  {
   "cell_type": "code",
   "execution_count": null,
   "metadata": {},
   "outputs": [],
   "source": [
    "2/3"
   ]
  },
  {
   "cell_type": "markdown",
   "metadata": {},
   "source": [
    "^-- above here \n",
    "\n",
    "After to ran the code you should see in red the result of the sum. Try changling the numbers in your sum and see what happens. \n",
    "\n",
    "\n",
    "## Now something a little more complicated\n",
    "\n",
    "What do you think the following program wiill do?\n"
   ]
  },
  {
   "cell_type": "code",
   "execution_count": null,
   "metadata": {},
   "outputs": [],
   "source": [
    "message = \"Hello \"\n",
    "message = message + \"from\"\n",
    "message = message + \" Python!\"\n",
    "print(message)\n"
   ]
  },
  {
   "cell_type": "markdown",
   "metadata": {},
   "source": [
    "^-- above here you should have a message\n",
    "\n",
    "\n",
    "## Now something even more complicated\n",
    "\n",
    "this program contains a **for loop** this means it will repeat a step several times. What do you think the result of this program will be?\n",
    "\n",
    "Run the program to see the result\n"
   ]
  },
  {
   "cell_type": "code",
   "execution_count": null,
   "metadata": {},
   "outputs": [],
   "source": [
    "mynumber = 2\n",
    "for i in range(3):\n",
    "    # This bit repeats 3 times\n",
    "    mynumber = mynumber * 2\n",
    "  \n",
    "# This bit does not repeat\n",
    "print(mynumber)    "
   ]
  },
  {
   "cell_type": "markdown",
   "metadata": {},
   "source": [
    "^--- result is here \n",
    "\n",
    "\n",
    "### Notice the code that is indented controls which code is inside or outside the loop. Python cares about indents. \n",
    "\n",
    "# Jupyter Notebooks connect all the code cells\n",
    "\n",
    "So now we will write a another cell, and we will use calculations from the previous cells. The notebook has all of the results from the previous cells ready for me to use again.  What will this program do? "
   ]
  },
  {
   "cell_type": "code",
   "execution_count": null,
   "metadata": {},
   "outputs": [],
   "source": [
    "# both mynumber and message came from pervious cells. \n",
    "for i in range(mynumber):\n",
    "    print(message)"
   ]
  },
  {
   "cell_type": "markdown",
   "metadata": {},
   "source": [
    "### Now we know about notebooks and how they work!\n",
    "\n",
    "If you want to create a new notebook you can from the **File** menu"
   ]
  },
  {
   "cell_type": "code",
   "execution_count": null,
   "metadata": {},
   "outputs": [],
   "source": []
  }
 ],
 "metadata": {
  "kernelspec": {
   "display_name": "Python 3",
   "language": "python",
   "name": "python3"
  },
  "language_info": {
   "codemirror_mode": {
    "name": "ipython",
    "version": 3
   },
   "file_extension": ".py",
   "mimetype": "text/x-python",
   "name": "python",
   "nbconvert_exporter": "python",
   "pygments_lexer": "ipython3",
   "version": "3.7.1"
  }
 },
 "nbformat": 4,
 "nbformat_minor": 2
}
