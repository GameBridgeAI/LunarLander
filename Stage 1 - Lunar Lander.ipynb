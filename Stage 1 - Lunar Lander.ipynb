{
 "cells": [
  {
   "cell_type": "markdown",
   "metadata": {},
   "source": [
    "# Building an AI: Stage 1 Lunar Lander\n",
    "\n",
    "Welcome to this tutorial. We are going to learn how to teach and AI to land a space craft! \n",
    "\n",
    "On February 6th 2018 SpaceX Falcon Heavy took off. \n"
   ]
  },
  {
   "cell_type": "markdown",
   "metadata": {},
   "source": [
    "Later the Falcon Heavy side boosters landed simultaneously at Kennedy Space Center. Click the link below to see the video of the boosters landing. Its amazing! \n",
    "\n",
    "[![Falcon Heavy Landing](https://img.youtube.com/vi/u0-pfzKbh2k/0.jpg)](https://www.youtube.com/watch?v=u0-pfzKbh2k)\n"
   ]
  },
  {
   "cell_type": "markdown",
   "metadata": {},
   "source": [
    "# Start by importing things we will need\n",
    "\n",
    "We are going to use **OpenAI Gym** to create our Lunar Lander. Follow this link to learn more. http://gym.openai.com/\n",
    "\n",
    "OpenAI is a company founded by Elon Musk and others. Their mission is to ensure *“AI benefits all of humanity”* \n",
    "The **gym** library helps us build our AI system. Don't worry too much about this this is just setup. \n",
    "\n",
    "\n",
    "Copy the code below to your workbook cell. \n",
    "```python\n",
    "import gym\n",
    "from gymclass import Notebook\n",
    "%matplotlib inline\n",
    "```\n",
    "\n",
    "Select the cell below by clicking on it and hit 'Run' to test it. "
   ]
  },
  {
   "cell_type": "code",
   "execution_count": null,
   "metadata": {},
   "outputs": [],
   "source": [
    "\n",
    "import gym\n",
    "from gymclass import Notebook\n",
    "%matplotlib inline\n"
   ]
  },
  {
   "cell_type": "markdown",
   "metadata": {},
   "source": [
    "If nothing happens but a litte number appears then it worked!\n",
    "\n",
    "```\n",
    "In [*]  wait, the code is still running. \n",
    "In [1]  IT WORKED move to the next step !\n",
    "```\n",
    "\n",
    "# Theory of Environment, Agent, Observation and Action\n",
    "\n",
    "The environment is a virtual world that we wil use to train our agent. The environment we will use in this case is a 2D Lunar Lander simulation. The Agent is another word for AI. In this case our Agent will make decisions about what to do, what **action** to take, based on the information it receives from the **observations**. \n",
    "\n",
    "![What we need](images/EnvironmentAndAgent.png)\n",
    "\n",
    "\n"
   ]
  },
  {
   "cell_type": "markdown",
   "metadata": {},
   "source": [
    "\n",
    "# Setup the environment \n",
    "\n",
    "Copy the code below to your workbook cell.\n",
    "\n",
    "```python\n",
    "env = gym.make(\"LunarLander-v2\")\n",
    "\n",
    "```"
   ]
  },
  {
   "cell_type": "code",
   "execution_count": null,
   "metadata": {},
   "outputs": [],
   "source": [
    "env = gym.make(\"LunarLander-v2\")\n"
   ]
  },
  {
   "cell_type": "markdown",
   "metadata": {},
   "source": [
    "# Running the environment (without an agent)\n",
    "\n",
    "Lets write a simple program to run the environment. The environment is lie a movie. It works one video frame at a time, or one step at a time. Each step we can receive observations and then take an action the environment moves forward on step. We are going to use a **for loop** in this case and run the environment for 500 frames. This is enough time for the simulation to run and complete. \n",
    "\n",
    "\n",
    "Explaining how the environment runs.\n",
    "\n",
    "![What we need](images/EnvironmentCodeExplain.png)\n",
    "\n",
    "\n",
    "\n",
    "Copy the code below to your workbook cell.\n",
    "\n",
    "```python\n",
    "Notebook.setup()\n",
    "observation = env.reset()\n",
    "steps = 500\n",
    "for t in range(steps):\n",
    "    Notebook.record(env)\n",
    "    action = 1\n",
    "    observation, reward, done, info = env.step(action)\n",
    "    if done:\n",
    "        break\n",
    "Notebook.replay() ```\n",
    "\n",
    "Remember we have no agent yet. The action is set to **0 = Nothing** so the action is to do nothing. What do you think will happen to our Lunar Lander?"
   ]
  },
  {
   "cell_type": "code",
   "execution_count": null,
   "metadata": {},
   "outputs": [],
   "source": [
    "Notebook.setup()\n",
    "observation = env.reset()\n",
    "steps = 500\n",
    "for t in range(steps):\n",
    "    Notebook.record(env)\n",
    "    action = 2\n",
    "    observation, reward, done, info = env.step(action)\n",
    "    if done:\n",
    "        break\n",
    "Notebook.replay() "
   ]
  },
  {
   "cell_type": "markdown",
   "metadata": {},
   "source": [
    "## Lets have some fun! \n",
    "\n",
    "You see the code above with \n",
    "```Python\n",
    "action = 0\n",
    "```\n",
    "\n",
    "Try changeing the value of the action to something else 0, 1, 2 or 3 and see what happens. \n",
    "\n",
    "![What actions do](images/ThrusterActions.png)\n",
    "\n",
    "\n",
    "Once you change the value, Run the code block above again.  Put the cursor in the code clock and click run!"
   ]
  },
  {
   "cell_type": "markdown",
   "metadata": {},
   "source": [
    "### Lets see what happens if we randomly fire rockets. \n",
    "\n",
    "\n",
    "Do you think we will still crash?"
   ]
  },
  {
   "cell_type": "code",
   "execution_count": null,
   "metadata": {},
   "outputs": [],
   "source": [
    "import random \n",
    "Notebook.setup()\n",
    "observation = env.reset()\n",
    "steps = 500\n",
    "for t in range(steps):\n",
    "    Notebook.record(env)\n",
    "    # Now we made it randomly fire rockets\n",
    "    action = random.randint(1, 3)\n",
    "    observation, reward, done, info = env.step(action)\n",
    "    if done:\n",
    "        break\n",
    "Notebook.replay() "
   ]
  },
  {
   "cell_type": "markdown",
   "metadata": {},
   "source": [
    "# What have we learned?\n",
    "\n",
    "1. We have learned to program a little python in 'Jupyter Notebooks' \n",
    "2. We have imported libraries we need including the **gym** library\n",
    "3. We have setup the Lunar Lander environment\n",
    "4. We have run the simulation and we have seen what happens when we change **actions**\n",
    "5. We know that if we randomly take actions its still not good. \n",
    "\n",
    "### No AI Agent just yet... \n",
    "\n",
    "**Go to Stage 2 workbook to start to build the agent**\n"
   ]
  },
  {
   "cell_type": "code",
   "execution_count": null,
   "metadata": {},
   "outputs": [],
   "source": [
    " "
   ]
  },
  {
   "cell_type": "code",
   "execution_count": null,
   "metadata": {},
   "outputs": [],
   "source": []
  }
 ],
 "metadata": {
  "kernelspec": {
   "display_name": "Python 3",
   "language": "python",
   "name": "python3"
  },
  "language_info": {
   "codemirror_mode": {
    "name": "ipython",
    "version": 3
   },
   "file_extension": ".py",
   "mimetype": "text/x-python",
   "name": "python",
   "nbconvert_exporter": "python",
   "pygments_lexer": "ipython3",
   "version": "3.7.1"
  }
 },
 "nbformat": 4,
 "nbformat_minor": 2
}
