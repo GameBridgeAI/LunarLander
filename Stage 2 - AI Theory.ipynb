{
 "cells": [
  {
   "cell_type": "markdown",
   "metadata": {},
   "source": [
    "# Building an AI: Stage 2\n",
    "\n",
    "This stage is mostly about theory of AI. \n",
    "\n",
    "\n",
    "## What does our AI Agent need to do?\n",
    "\n",
    "\n",
    "Remember this is the picture from the previous step. \n",
    "\n",
    "![What we need](images/EnvironmentAndAgent.png)\n",
    "\n",
    "\n",
    "\n"
   ]
  },
  {
   "cell_type": "markdown",
   "metadata": {},
   "source": [
    "\n",
    "## The agent takes in observations\n",
    "\n",
    "Observations are all kinds of numbers\n",
    "\n",
    "* Position X\n",
    "* Position Y\n",
    "* Velocity\n",
    "* Angle \n",
    "* Angular Velocity\n",
    "\n",
    "![What we need](images/AgentNeeds.png)\n",
    "\n",
    "\n",
    "\n",
    "## and then outputs actions\n",
    "\n",
    "Actions are also numbers \n",
    "\n",
    "* 0 = Do Nothing\n",
    "* 1 = Left Thruster\n",
    "* 2 = Main Thruster\n",
    "* 3 = Right Thruster\n",
    "\n",
    "\n",
    "\n",
    "### note all of these things, the input observation and output actions are numbers"
   ]
  },
  {
   "cell_type": "markdown",
   "metadata": {},
   "source": [
    "## A Neural Network Agent\n",
    "\n",
    "![What we need](images/NeuralNetwork.png)\n",
    "\n",
    "\n",
    "Here we see a neural network in the place of our Agent above. The input nodes and the output nodes are connected together through some hidden nodes. Signals pass through the network along the connections and the connections have weights that control how the signal is transferred from one node to the next "
   ]
  },
  {
   "cell_type": "markdown",
   "metadata": {},
   "source": [
    "### How does the network learn - Stage 1: Forward\n",
    "\n",
    "![What we need](images/NNLearning-Stage1.png)\n",
    "\n",
    "\n",
    "Activation moves forward from one side of the network to the other through the connections. The weights of the connections determines if subsequent nodes activate. The weights start as random values and can be adjusted. "
   ]
  },
  {
   "cell_type": "markdown",
   "metadata": {},
   "source": [
    "### How does the network learn - Stage 2: Output is wrong!\n",
    "\n",
    "![What we need](images/NNLearning-Stage2.png)\n",
    "\n",
    "\n",
    "The output node is the **Main Thruster** and this is not correct. We know this because the the agent is getting a lower score. We determine through the score that we should have activated the **Left Thruster** so now we have to adjust the network to make it better."
   ]
  },
  {
   "cell_type": "markdown",
   "metadata": {},
   "source": [
    "### How does the network learn - Stage 3: Adjust based on the error.\n",
    "\n",
    "![What we need](images/NNLearning-Stage3.png)\n",
    "\n",
    "\n",
    "We have a error and we know what we want the outputs to be. We calculate the differences between what we want the output to be and the current output. We adjust the weights going backward through the network so that this happens. This is known as **Back Propagation** and it causes the network to change slightly toward a 'better' trained state. We do this slight adjustment many times so the network learns little by little what the right weights are.  "
   ]
  },
  {
   "cell_type": "markdown",
   "metadata": {},
   "source": [
    "### How does the network learn - Stage 4: Doing 4 things at once?\n",
    "\n",
    "![What we need](images/NNLearning-Stage4.png)\n",
    "\n",
    "\n",
    "There are 4 outputs does this mean it can control 4 thrusters at once? Yes it can but in our Lunar Lander simulation we can only do one of four actions at a time. "
   ]
  },
  {
   "cell_type": "markdown",
   "metadata": {},
   "source": [
    "### How does the network learn - Stage 5: We select the best action\n",
    "\n",
    "![What we need](images/NNLearning-Stage5.png)\n",
    "\n",
    "\n",
    "We look at all 4 output actions, which are probabilities between 0 and 1, and we select the most likely action, that is the action with the highest probability. "
   ]
  },
  {
   "cell_type": "markdown",
   "metadata": {},
   "source": [
    "### End of the theory... lets train our agent. \n",
    "\n",
    "go to Stage 3 - Training an Agent"
   ]
  },
  {
   "cell_type": "code",
   "execution_count": null,
   "metadata": {},
   "outputs": [],
   "source": []
  }
 ],
 "metadata": {
  "kernelspec": {
   "display_name": "Python 3",
   "language": "python",
   "name": "python3"
  },
  "language_info": {
   "codemirror_mode": {
    "name": "ipython",
    "version": 3
   },
   "file_extension": ".py",
   "mimetype": "text/x-python",
   "name": "python",
   "nbconvert_exporter": "python",
   "pygments_lexer": "ipython3",
   "version": "3.7.1"
  }
 },
 "nbformat": 4,
 "nbformat_minor": 2
}
