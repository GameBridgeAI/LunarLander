{
 "cells": [
  {
   "cell_type": "code",
   "execution_count": null,
   "metadata": {},
   "outputs": [],
   "source": [
    "import gym\n",
    "from gymclass import Notebook\n",
    "%matplotlib inline\n"
   ]
  },
  {
   "cell_type": "code",
   "execution_count": null,
   "metadata": {},
   "outputs": [],
   "source": [
    "env = gym.make(\"LunarLander-v2\")\n",
    "env = env.unwrapped\n",
    "env.seed(1)"
   ]
  },
  {
   "cell_type": "code",
   "execution_count": null,
   "metadata": {},
   "outputs": [],
   "source": [
    "\n",
    "from dqn_agent import DQNAgent\n",
    "\n",
    "\n",
    "agent = DQNAgent(state_size=8, action_size=4, seed=0, hidden_layer1=64, hidden_layer2=108)\n",
    "\n",
    "\n",
    "# Load checkpoint, valid checkpoints 200, 400, 800, 1600, 3200, 6400\n",
    "\n",
    "load_path = \"output/LunarLander-ROBIN.ckpt\"\n",
    "agent.load(load_path)\n",
    "\n",
    "\n",
    "observation = env.reset()\n",
    "Notebook.setup()\n",
    "steps = 1000\n",
    "episode_reward = 0\n",
    "for t in Notebook.log_progress(range(steps), name=\"Frames\"):\n",
    "    Notebook.record(env)\n",
    "    action = agent.act(observation)\n",
    "    observation, reward, done, info = env.step(action)\n",
    "    episode_reward += reward\n",
    "    if done:\n",
    "        max_reward = reward\n",
    "        break\n",
    "        \n",
    "Notebook.replay()  \n",
    "\n",
    "print(\"Done! Episode reward=\", episode_reward)\n",
    "print(\"Fitness Percent =\", agent.fitness(episode_reward))"
   ]
  },
  {
   "cell_type": "code",
   "execution_count": null,
   "metadata": {},
   "outputs": [],
   "source": []
  }
 ],
 "metadata": {
  "kernelspec": {
   "display_name": "Python 3",
   "language": "python",
   "name": "python3"
  },
  "language_info": {
   "codemirror_mode": {
    "name": "ipython",
    "version": 3
   },
   "file_extension": ".py",
   "mimetype": "text/x-python",
   "name": "python",
   "nbconvert_exporter": "python",
   "pygments_lexer": "ipython3",
   "version": "3.7.0"
  }
 },
 "nbformat": 4,
 "nbformat_minor": 2
}
